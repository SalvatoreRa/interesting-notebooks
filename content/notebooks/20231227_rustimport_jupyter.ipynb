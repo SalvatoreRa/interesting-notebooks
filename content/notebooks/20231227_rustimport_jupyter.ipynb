{
  "cells": [
    {
      "cell_type": "markdown",
      "metadata": {
        "id": "Ezu6aaCmpP4t"
      },
      "source": [
        "# Python Extensions in Rust with Jupyter Notebooks"
      ]
    },
    {
      "cell_type": "code",
      "execution_count": null,
      "metadata": {
        "id": "itw5xkxJpP4y"
      },
      "outputs": [],
      "source": [
        "# Install dependencies for google colab\n",
        "import os\n",
        "import sys\n",
        "\n",
        "IN_COLAB = \"google.colab\" in sys.modules\n",
        "if IN_COLAB:\n",
        "    %pip install rustimport_jupyter polars==0.20.2\n",
        "    !curl --proto '=https' --tlsv1.2 -sSf https://sh.rustup.rs | sh -s -- -y\n",
        "    os.environ[\"PATH\"] += \":/root/.cargo/bin\""
      ]
    },
    {
      "cell_type": "markdown",
      "metadata": {
        "id": "XLEFmemkpP40"
      },
      "source": [
        "The Rust programming language has gotten more prominent for writing compiled Python extensions. Currently, there is a bunch of boilerplate for wrapping writing up a Rust function and making it callable from Python. I enjoy exploring and prototyping code in Jupyter Notebooks, so I developed [rustimport_jupyter](https://github.com/thomasjpfan/rustimport_jupyter) to compile Rust code in Jupyter and have the compiled code available in Python! In this blog post, I will showcase a simple function, NumPy function, and Polar expression plugins. This blog post is runnable as a [notebook on Google Colab](https://colab.research.google.com/github/thomasjpfan/thomasjpfan.github.io/blob/main/content/notebooks/20231227_rustimport_jupyter.ipynb)."
      ]
    },
    {
      "cell_type": "markdown",
      "metadata": {
        "id": "RJsHZNG7pP40"
      },
      "source": [
        "## Simple Rust Functions\n",
        "\n",
        "`rustimport_jupyter` builds on top of [rustimport](https://github.com/mityax/rustimport) to compile Python extensions written in Rust from Jupyter notebooks. After installing the [rustimport_jupyter](https://pypi.org/project/rustimport-jupyter/) package from PyPI, we load the magic from within a Jupyter notebook:"
      ]
    },
    {
      "cell_type": "code",
      "execution_count": null,
      "metadata": {
        "id": "M6VeuqZ7pP41"
      },
      "outputs": [],
      "source": [
        "%load_ext rustimport_jupyter"
      ]
    },
    {
      "cell_type": "markdown",
      "metadata": {
        "id": "CH0Gf8RepP42"
      },
      "source": [
        "Next, we define a `double` function in Rust and prefixing the cell with the `%%rustimport` marker:"
      ]
    },
    {
      "cell_type": "code",
      "execution_count": null,
      "metadata": {
        "id": "hQ1CPq19pP42"
      },
      "outputs": [],
      "source": [
        "%%rustimport\n",
        "use pyo3::prelude::*;\n",
        "\n",
        "#[pyfunction]\n",
        "fn double(x: i32) -> i32 {\n",
        "    2 * x\n",
        "}"
      ]
    },
    {
      "cell_type": "markdown",
      "metadata": {
        "id": "Djhuw3l1pP42"
      },
      "source": [
        "The `%%rustimport` marker compiles the Rust code and imports the `double` function into the Jupyter notebook environment. This means, we can directly call it from Python!"
      ]
    },
    {
      "cell_type": "code",
      "execution_count": null,
      "metadata": {
        "id": "3tg8k1eLpP43",
        "outputId": "595c804b-baa6-4917-f72f-6f4c3b54a762"
      },
      "outputs": [
        {
          "data": {
            "text/plain": [
              "68"
            ]
          },
          "execution_count": 4,
          "metadata": {},
          "output_type": "execute_result"
        }
      ],
      "source": [
        "double(34)"
      ]
    },
    {
      "cell_type": "markdown",
      "metadata": {
        "id": "7R6sC4CkpP44"
      },
      "source": [
        "By default, `%%rustimport` is compiles without Rust optimizations. We can enable these optimizations by adding the `--release` flag:"
      ]
    },
    {
      "cell_type": "code",
      "execution_count": null,
      "metadata": {
        "id": "_X-BCFWupP44"
      },
      "outputs": [],
      "source": [
        "%%rustimport --release\n",
        "use pyo3::prelude::*;\n",
        "\n",
        "#[pyfunction]\n",
        "fn triple(x: i32) -> i32 {\n",
        "    3 * x\n",
        "}"
      ]
    },
    {
      "cell_type": "code",
      "execution_count": null,
      "metadata": {
        "id": "10bjAMWipP44",
        "outputId": "725c69d2-04b9-4ff4-d6db-3b5423bdac6b"
      },
      "outputs": [
        {
          "data": {
            "text/plain": [
              "21"
            ]
          },
          "execution_count": 6,
          "metadata": {},
          "output_type": "execute_result"
        }
      ],
      "source": [
        "triple(7)"
      ]
    },
    {
      "cell_type": "markdown",
      "metadata": {
        "id": "jr_SlKuwpP44"
      },
      "source": [
        "## NumPy in Rust\n",
        "\n",
        "Rust's ecosystem contains many [third party libraries](https://crates.io) that is useful for writing our custom functions. [rustimport](https://github.com/mityax/rustimport#customizing-an-extension) defines a custom `//:` comment syntax that we can use to pull in write our extensions. In this next example, we use [PyO3/rust-numpy](https://github.com/PyO3/rust-numpy) to define a NumPy function that computes `a*x-y` in Rust:"
      ]
    },
    {
      "cell_type": "code",
      "execution_count": null,
      "metadata": {
        "id": "PQJ2vQLkpP45"
      },
      "outputs": [],
      "source": [
        "%%rustimport --release\n",
        "//: [dependencies]\n",
        "//: pyo3 = { version = \"0.20\", features = [\"extension-module\"] }\n",
        "//: numpy = \"0.20\"\n",
        "\n",
        "use pyo3::prelude::*;\n",
        "use numpy::ndarray::{ArrayD, ArrayViewD};\n",
        "use numpy::{IntoPyArray, PyArrayDyn, PyReadonlyArrayDyn};\n",
        "\n",
        "fn axsy(a: f64, x: ArrayViewD<'_, f64>, y: ArrayViewD<'_, f64>) -> ArrayD<f64> {\n",
        "    a * &x - &y\n",
        "}\n",
        "\n",
        "#[pyfunction]\n",
        "#[pyo3(name = \"axsy\")]\n",
        "fn axsy_py<'py>(\n",
        "    py: Python<'py>,\n",
        "    a: f64,\n",
        "    x: PyReadonlyArrayDyn<'py, f64>,\n",
        "    y: PyReadonlyArrayDyn<'py, f64>,\n",
        ") -> &'py PyArrayDyn<f64> {\n",
        "    let x = x.as_array();\n",
        "    let y = y.as_array();\n",
        "    let z = axsy(a, x, y);\n",
        "    z.into_pyarray(py)\n",
        "}"
      ]
    },
    {
      "cell_type": "markdown",
      "metadata": {
        "id": "fxQg68OppP45"
      },
      "source": [
        "The `pyo3(name = \"axsy\")` Rust macro exports the compiled function as `axsy` in Python. We can now use `axsy` directly in Jupyter:"
      ]
    },
    {
      "cell_type": "code",
      "execution_count": null,
      "metadata": {
        "id": "nRqqBzGUpP45",
        "outputId": "850f3b9e-d106-4bec-9671-a2aefa897d86"
      },
      "outputs": [
        {
          "data": {
            "text/plain": [
              "array([ 0.3, -8.2,  5.6])"
            ]
          },
          "execution_count": 8,
          "metadata": {},
          "output_type": "execute_result"
        }
      ],
      "source": [
        "import numpy as np\n",
        "\n",
        "a = 2.4\n",
        "x = np.array([1.0, -3.0, 4.0], dtype=np.float64)\n",
        "y = np.array([2.1, 1.0, 4.0], dtype=np.float64)\n",
        "\n",
        "axsy(a, x, y)"
      ]
    },
    {
      "cell_type": "markdown",
      "metadata": {
        "id": "BMP_aL6cpP45"
      },
      "source": [
        "## Polars Expression Plugin\n",
        "\n",
        "Recently, Polars added support for [expression plugins](https://pola-rs.github.io/polars/user-guide/expressions/plugins/) to create user defined functions. With `rustimport_jupyter`, we can prototype quickly on an Polars expression directly in Jupyter! In this example, we compile a pig-laten expression as seen in [Polar's user guide](https://pola-rs.github.io/polars/user-guide/expressions/plugins/):"
      ]
    },
    {
      "cell_type": "code",
      "execution_count": null,
      "metadata": {
        "id": "xqxp4dH8pP45"
      },
      "outputs": [],
      "source": [
        "%%rustimport --module-path-variable=polars_pig_latin_module\n",
        "//: [dependencies]\n",
        "//: polars = { version = \"*\" }\n",
        "//: pyo3 = { version = \"*\", features = [\"extension-module\"] }\n",
        "//: pyo3-polars = { version = \"0.9\", features = [\"derive\"] }\n",
        "//: serde = { version = \"*\", features = [\"derive\"] }\n",
        "\n",
        "use pyo3::prelude::*;\n",
        "use polars::prelude::*;\n",
        "use pyo3_polars::derive::polars_expr;\n",
        "use std::fmt::Write;\n",
        "\n",
        "fn pig_latin_str(value: &str, output: &mut String) {\n",
        "    if let Some(first_char) = value.chars().next() {\n",
        "        write!(output, \"{}{}ay\", &value[1..], first_char).unwrap()\n",
        "    }\n",
        "}\n",
        "\n",
        "#[polars_expr(output_type=Utf8)]\n",
        "fn pig_latinnify(inputs: &[Series]) -> PolarsResult<Series> {\n",
        "    let ca = inputs[0].utf8()?;\n",
        "    let out: Utf8Chunked = ca.apply_to_buffer(pig_latin_str);\n",
        "    Ok(out.into_series())\n",
        "}"
      ]
    },
    {
      "cell_type": "markdown",
      "metadata": {
        "id": "Owe0DzLypP46"
      },
      "source": [
        "Note that we use `--module-path-variable=polars_pig_latin_module`, which saves the compiled module path as `polars_pig_latin_module`. With `polars_pig_latin_module` defined, we configure a `language` namespace for the Polars DataFrame:"
      ]
    },
    {
      "cell_type": "code",
      "execution_count": null,
      "metadata": {
        "id": "utjjx1lCpP46"
      },
      "outputs": [],
      "source": [
        "import polars as pl\n",
        "\n",
        "@pl.api.register_expr_namespace(\"language\")\n",
        "class Language:\n",
        "    def __init__(self, expr: pl.Expr):\n",
        "        self._expr = expr\n",
        "\n",
        "    def pig_latinnify(self) -> pl.Expr:\n",
        "        return self._expr.register_plugin(\n",
        "            lib=polars_pig_latin_module,\n",
        "            symbol=\"pig_latinnify\",\n",
        "            is_elementwise=True,\n",
        "        )"
      ]
    },
    {
      "cell_type": "markdown",
      "metadata": {
        "id": "U5JM5F0MpP46"
      },
      "source": [
        "With the `language` namepsace defined, we can now use it with Polars:"
      ]
    },
    {
      "cell_type": "code",
      "execution_count": null,
      "metadata": {
        "id": "DzVX42KApP46",
        "outputId": "f68f7a6c-ceb4-4576-dc49-9ee37d2b4d32"
      },
      "outputs": [
        {
          "name": "stdout",
          "output_type": "stream",
          "text": [
            "shape: (4, 2)\n",
            "┌─────────┬───────────┐\n",
            "│ convert ┆ pig_latin │\n",
            "│ ---     ┆ ---       │\n",
            "│ str     ┆ str       │\n",
            "╞═════════╪═══════════╡\n",
            "│ pig     ┆ igpay     │\n",
            "│ latin   ┆ atinlay   │\n",
            "│ is      ┆ siay      │\n",
            "│ silly   ┆ illysay   │\n",
            "└─────────┴───────────┘\n"
          ]
        }
      ],
      "source": [
        "df = pl.DataFrame(\n",
        "    {\n",
        "        \"convert\": [\"pig\", \"latin\", \"is\", \"silly\"],\n",
        "    }\n",
        ")\n",
        "\n",
        "out = df.with_columns(\n",
        "    pig_latin=pl.col(\"convert\").language.pig_latinnify(),\n",
        ")\n",
        "print(out)"
      ]
    },
    {
      "cell_type": "markdown",
      "metadata": {
        "id": "WeSPg1EbpP46"
      },
      "source": [
        "## Conclusion\n",
        "\n",
        "For those who like prototyping and exploring in Jupyter notebooks, [rustimport_jupyter](https://github.com/thomasjpfan/rustimport_jupyter) enables you to explore the Rust ecosystem while easily connecting it to your Python code. You can try out the library by installing it with: `pip install rustimport_jupyter` 🚀!"
      ]
    }
  ],
  "metadata": {
    "kernelspec": {
      "display_name": "rustimport-jupyter",
      "language": "python",
      "name": "python3"
    },
    "language_info": {
      "codemirror_mode": {
        "name": "ipython",
        "version": 3
      },
      "file_extension": ".py",
      "mimetype": "text/x-python",
      "name": "python",
      "nbconvert_exporter": "python",
      "pygments_lexer": "ipython3",
      "version": "3.11.7"
    },
    "colab": {
      "provenance": []
    }
  },
  "nbformat": 4,
  "nbformat_minor": 0
}